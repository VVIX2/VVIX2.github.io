{
  "nbformat": 4,
  "nbformat_minor": 0,
  "metadata": {
    "colab": {
      "provenance": [],
      "include_colab_link": true
    },
    "kernelspec": {
      "name": "python3",
      "display_name": "Python 3"
    },
    "language_info": {
      "name": "python"
    }
  },
  "cells": [
    {
      "cell_type": "markdown",
      "metadata": {
        "id": "view-in-github",
        "colab_type": "text"
      },
      "source": [
        "<a href=\"https://colab.research.google.com/github/VVIX2/VVIX2.github.io/blob/main/2025_02_logistic.ipynb\" target=\"_parent\"><img src=\"https://colab.research.google.com/assets/colab-badge.svg\" alt=\"Open In Colab\"/></a>"
      ]
    },
    {
      "cell_type": "markdown",
      "source": [
        "# Logistic Regression in Python (Google Colab Compatible)\n",
        "\n",
        "## **1. Introduction to Logistic Regression**\n",
        "\n",
        "### **What is Logistic Regression?**\n",
        "Logistic Regression is a classification algorithm used to predict the probability of a categorical dependent variable. Unlike linear regression, which predicts continuous values, logistic regression predicts discrete classes by applying the **sigmoid function** to the linear equation:\n",
        "$$\n",
        "P(y=1 | X) = \\frac{1}{1 + e^{-(\\beta_0 + \\beta_1 X_1 + \\beta_2 X_2)}}\n",
        "$$\n",
        "where:\n",
        "- $β_0$ is the intercept (bias)\n",
        "- $β_1, β_2$ are the coefficients (weights) for features $X_1, X_2$\n",
        "- The **sigmoid function** ensures that the output is between 0 and 1, representing a probability.\n",
        "\n",
        "The goal is to adjust the weights $β_j$ to maximize the likelihood of correctly classifying the data."
      ],
      "metadata": {
        "id": "5kRC3fPWFnUq"
      }
    },
    {
      "cell_type": "markdown",
      "source": [
        "## **2. Load and Preprocess the Iris Dataset**\n",
        "\n",
        "\n",
        "- We load the **Iris dataset** from Scikit-Learn.\n",
        "- Only the first two features (**sepal length** and **sepal width**) are selected to simplify visualization.\n",
        "- The target variable is converted to **binary classification**, where **Setosa (0) vs Non-Setosa (1)**."
      ],
      "metadata": {
        "id": "sDEWuic2FtV3"
      }
    },
    {
      "cell_type": "code",
      "execution_count": 1,
      "metadata": {
        "id": "3LXkG5MbFdx8"
      },
      "outputs": [],
      "source": [
        "from sklearn import datasets\n",
        "import pandas as pd\n",
        "import numpy as np\n",
        "import matplotlib.pyplot as plt\n",
        "from sklearn.model_selection import train_test_split\n",
        "from sklearn.preprocessing import StandardScaler\n",
        "from sklearn.linear_model import LogisticRegression\n",
        "from sklearn.metrics import accuracy_score, classification_report, confusion_matrix\n",
        "\n",
        "# Load the dataset\n",
        "iris = datasets.load_iris()\n",
        "X = iris.data[:, :2]  # Use only first two features for visualization purposes\n",
        "y = (iris.target != 0).astype(int)  # Convert to binary classification (Setosa vs Non-Setosa)"
      ]
    },
    {
      "cell_type": "markdown",
      "source": [
        "## **3. Explore the Dataset**\n",
        "\n",
        "- We convert the dataset into a Pandas **DataFrame** for easier exploration.\n",
        "- The dataset **description (DESCR)** provides insights about the features.\n",
        "- The **class distribution** of target labels is displayed to understand the dataset balance."
      ],
      "metadata": {
        "id": "XXLkPwDYFvKz"
      }
    },
    {
      "cell_type": "code",
      "source": [
        "# Convert to DataFrame for exploration\n",
        "iris_df = pd.DataFrame(iris.data, columns=iris.feature_names)\n",
        "iris_df['target'] = iris.target\n",
        "\n",
        "# Display first few rows\n",
        "print(iris_df.head())\n",
        "\n",
        "# Display dataset description\n",
        "print(iris.DESCR)\n",
        "\n",
        "# Check class distribution\n",
        "y_unique, y_counts = np.unique(iris.target, return_counts=True)\n",
        "print(f\"Class Distribution: {dict(zip(y_unique, y_counts))}\")"
      ],
      "metadata": {
        "colab": {
          "base_uri": "https://localhost:8080/"
        },
        "id": "r5JH4W8yFxWY",
        "outputId": "715f47f5-274a-4691-89a6-9df06f4252e0"
      },
      "execution_count": 2,
      "outputs": [
        {
          "output_type": "stream",
          "name": "stdout",
          "text": [
            "   sepal length (cm)  sepal width (cm)  petal length (cm)  petal width (cm)  \\\n",
            "0                5.1               3.5                1.4               0.2   \n",
            "1                4.9               3.0                1.4               0.2   \n",
            "2                4.7               3.2                1.3               0.2   \n",
            "3                4.6               3.1                1.5               0.2   \n",
            "4                5.0               3.6                1.4               0.2   \n",
            "\n",
            "   target  \n",
            "0       0  \n",
            "1       0  \n",
            "2       0  \n",
            "3       0  \n",
            "4       0  \n",
            ".. _iris_dataset:\n",
            "\n",
            "Iris plants dataset\n",
            "--------------------\n",
            "\n",
            "**Data Set Characteristics:**\n",
            "\n",
            ":Number of Instances: 150 (50 in each of three classes)\n",
            ":Number of Attributes: 4 numeric, predictive attributes and the class\n",
            ":Attribute Information:\n",
            "    - sepal length in cm\n",
            "    - sepal width in cm\n",
            "    - petal length in cm\n",
            "    - petal width in cm\n",
            "    - class:\n",
            "            - Iris-Setosa\n",
            "            - Iris-Versicolour\n",
            "            - Iris-Virginica\n",
            "\n",
            ":Summary Statistics:\n",
            "\n",
            "============== ==== ==== ======= ===== ====================\n",
            "                Min  Max   Mean    SD   Class Correlation\n",
            "============== ==== ==== ======= ===== ====================\n",
            "sepal length:   4.3  7.9   5.84   0.83    0.7826\n",
            "sepal width:    2.0  4.4   3.05   0.43   -0.4194\n",
            "petal length:   1.0  6.9   3.76   1.76    0.9490  (high!)\n",
            "petal width:    0.1  2.5   1.20   0.76    0.9565  (high!)\n",
            "============== ==== ==== ======= ===== ====================\n",
            "\n",
            ":Missing Attribute Values: None\n",
            ":Class Distribution: 33.3% for each of 3 classes.\n",
            ":Creator: R.A. Fisher\n",
            ":Donor: Michael Marshall (MARSHALL%PLU@io.arc.nasa.gov)\n",
            ":Date: July, 1988\n",
            "\n",
            "The famous Iris database, first used by Sir R.A. Fisher. The dataset is taken\n",
            "from Fisher's paper. Note that it's the same as in R, but not as in the UCI\n",
            "Machine Learning Repository, which has two wrong data points.\n",
            "\n",
            "This is perhaps the best known database to be found in the\n",
            "pattern recognition literature.  Fisher's paper is a classic in the field and\n",
            "is referenced frequently to this day.  (See Duda & Hart, for example.)  The\n",
            "data set contains 3 classes of 50 instances each, where each class refers to a\n",
            "type of iris plant.  One class is linearly separable from the other 2; the\n",
            "latter are NOT linearly separable from each other.\n",
            "\n",
            ".. dropdown:: References\n",
            "\n",
            "  - Fisher, R.A. \"The use of multiple measurements in taxonomic problems\"\n",
            "    Annual Eugenics, 7, Part II, 179-188 (1936); also in \"Contributions to\n",
            "    Mathematical Statistics\" (John Wiley, NY, 1950).\n",
            "  - Duda, R.O., & Hart, P.E. (1973) Pattern Classification and Scene Analysis.\n",
            "    (Q327.D83) John Wiley & Sons.  ISBN 0-471-22361-1.  See page 218.\n",
            "  - Dasarathy, B.V. (1980) \"Nosing Around the Neighborhood: A New System\n",
            "    Structure and Classification Rule for Recognition in Partially Exposed\n",
            "    Environments\".  IEEE Transactions on Pattern Analysis and Machine\n",
            "    Intelligence, Vol. PAMI-2, No. 1, 67-71.\n",
            "  - Gates, G.W. (1972) \"The Reduced Nearest Neighbor Rule\".  IEEE Transactions\n",
            "    on Information Theory, May 1972, 431-433.\n",
            "  - See also: 1988 MLC Proceedings, 54-64.  Cheeseman et al\"s AUTOCLASS II\n",
            "    conceptual clustering system finds 3 classes in the data.\n",
            "  - Many, many more ...\n",
            "\n",
            "Class Distribution: {0: 50, 1: 50, 2: 50}\n"
          ]
        }
      ]
    },
    {
      "cell_type": "markdown",
      "source": [
        "## **4. Split Data into Training and Testing Sets**\n",
        "\n",
        "- The dataset is split into **80% training** and **20% testing**.\n",
        "- Features are **standardized** to have a mean of 0 and variance of 1, which improves gradient descent convergence."
      ],
      "metadata": {
        "id": "UwdFa_evF0JM"
      }
    },
    {
      "cell_type": "code",
      "source": [
        "X_train, X_test, y_train, y_test = train_test_split(X, y, test_size=0.2, random_state=42)\n",
        "\n",
        "# Standardize the features\n",
        "scaler = StandardScaler()\n",
        "X_train = scaler.fit_transform(X_train)\n",
        "X_test = scaler.transform(X_test)"
      ],
      "metadata": {
        "id": "9AAO5v3mF3U3"
      },
      "execution_count": 3,
      "outputs": []
    },
    {
      "cell_type": "markdown",
      "source": [
        "## **5. Train Logistic Regression Using Gradient Descent**\n",
        "\n",
        "- The **sigmoid function** converts linear outputs into probabilities.\n",
        "- **Gradient Descent** is used to update model parameters **θ** iteratively to minimize the **log loss function**.\n",
        "- The **cost function (log loss)** is recorded at each epoch to monitor training."
      ],
      "metadata": {
        "id": "9JClBRA8H6t9"
      }
    },
    {
      "cell_type": "code",
      "source": [
        "def sigmoid(z):\n",
        "    return 1 / (1 + np.exp(-z))\n",
        "\n",
        "def gradient_descent_logistic(X, y, learning_rate=0.01, epochs=1000):\n",
        "    m, n = X.shape\n",
        "    theta = np.random.randn(n + 1, 1)  # Initialize weights randomly\n",
        "    X_b = np.c_[np.ones((m, 1)), X]  # Add intercept term\n",
        "    cost_history = []\n",
        "\n",
        "    for epoch in range(epochs):\n",
        "        predictions = sigmoid(X_b @ theta)\n",
        "        gradients = (1/m) * X_b.T @ (predictions - y.reshape(-1, 1))\n",
        "        theta -= learning_rate * gradients\n",
        "\n",
        "        # Compute and store cost function value for monitoring\n",
        "        cost = -np.mean(y.reshape(-1, 1) * np.log(predictions) + (1 - y.reshape(-1, 1)) * np.log(1 - predictions))\n",
        "        cost_history.append(cost)\n",
        "\n",
        "    return theta, cost_history\n",
        "\n",
        "# Run Gradient Descent\n",
        "theta_gd, cost_history = gradient_descent_logistic(X_train, y_train, learning_rate=0.01, epochs=1000)"
      ],
      "metadata": {
        "id": "8c2DCUGuH7Hf"
      },
      "execution_count": 4,
      "outputs": []
    },
    {
      "cell_type": "markdown",
      "source": [
        "## **6. Train Logistic Regression Using Scikit-Learn**\n",
        "\n",
        "- The **Scikit-Learn LogisticRegression** model is trained using the training dataset.\n",
        "- Predictions are made on the test set."
      ],
      "metadata": {
        "id": "CLvRVf7FF3tt"
      }
    },
    {
      "cell_type": "code",
      "source": [
        "model = LogisticRegression()\n",
        "model.fit(X_train, y_train)\n",
        "y_pred_sklearn = model.predict(X_test)"
      ],
      "metadata": {
        "id": "m5FXuvpyF3KO"
      },
      "execution_count": 5,
      "outputs": []
    },
    {
      "cell_type": "markdown",
      "source": [
        "## **7. Compare Model Performance (Accuracy & Confusion Matrix)**\n",
        "\n",
        "- **Accuracy, Confusion Matrix, and Classification Report** are computed for both models.\n",
        "- Gradient Descent predictions are thresholded at **0.5** to classify as 0 or 1."
      ],
      "metadata": {
        "id": "9aS9P22DF9Qm"
      }
    },
    {
      "cell_type": "code",
      "source": [
        "def evaluate_model(y_true, y_pred, model_name):\n",
        "    print(f\"{model_name} Accuracy: {accuracy_score(y_true, y_pred):.4f}\")\n",
        "    print(f\"Confusion Matrix:\\n{confusion_matrix(y_true, y_pred)}\")\n",
        "    print(f\"Classification Report:\\n{classification_report(y_true, y_pred)}\")\n",
        "\n",
        "# Predictions using Gradient Descent\n",
        "y_pred_gd = (sigmoid(np.c_[np.ones((X_test.shape[0], 1)), X_test] @ theta_gd) >= 0.5).astype(int)\n",
        "\n",
        "evaluate_model(y_test, y_pred_sklearn, \"Scikit-learn Logistic Regression\")\n",
        "evaluate_model(y_test, y_pred_gd, \"Gradient Descent Logistic Regression\")"
      ],
      "metadata": {
        "colab": {
          "base_uri": "https://localhost:8080/"
        },
        "id": "QwFxIdFsF9lM",
        "outputId": "ae38ba0f-287c-427b-860e-c2ef92f4327b"
      },
      "execution_count": 6,
      "outputs": [
        {
          "output_type": "stream",
          "name": "stdout",
          "text": [
            "Scikit-learn Logistic Regression Accuracy: 1.0000\n",
            "Confusion Matrix:\n",
            "[[10  0]\n",
            " [ 0 20]]\n",
            "Classification Report:\n",
            "              precision    recall  f1-score   support\n",
            "\n",
            "           0       1.00      1.00      1.00        10\n",
            "           1       1.00      1.00      1.00        20\n",
            "\n",
            "    accuracy                           1.00        30\n",
            "   macro avg       1.00      1.00      1.00        30\n",
            "weighted avg       1.00      1.00      1.00        30\n",
            "\n",
            "Gradient Descent Logistic Regression Accuracy: 1.0000\n",
            "Confusion Matrix:\n",
            "[[10  0]\n",
            " [ 0 20]]\n",
            "Classification Report:\n",
            "              precision    recall  f1-score   support\n",
            "\n",
            "           0       1.00      1.00      1.00        10\n",
            "           1       1.00      1.00      1.00        20\n",
            "\n",
            "    accuracy                           1.00        30\n",
            "   macro avg       1.00      1.00      1.00        30\n",
            "weighted avg       1.00      1.00      1.00        30\n",
            "\n"
          ]
        }
      ]
    },
    {
      "cell_type": "markdown",
      "source": [
        "## **8. Visualize Decision Boundary**\n",
        "\n",
        "- A **scatter plot** shows the training data.\n",
        "- The **decision boundary** is drawn using the trained weights.\n",
        "- The boundary represents where the model predicts **Class 0 vs Class 1**."
      ],
      "metadata": {
        "id": "zkEh5LHlIIY4"
      }
    },
    {
      "cell_type": "code",
      "source": [
        "from mlxtend.plotting import plot_decision_regions\n",
        "\n",
        "class GDLogisticRegression:\n",
        "    def __init__(self, theta):\n",
        "        self.theta = theta\n",
        "\n",
        "    def predict(self, X):\n",
        "        X_b = np.c_[np.ones((X.shape[0], 1)), X]  # Add intercept term\n",
        "        return (sigmoid(X_b @ self.theta) >= 0.5).astype(int).flatten()\n",
        "\n",
        "\n",
        "plt.figure(figsize=(12, 5))\n",
        "\n",
        "# Scikit-learn Logistic Regression\n",
        "plt.subplot(1, 2, 1)\n",
        "plot_decision_regions(X_train, y_train, clf=model, legend=2)\n",
        "plt.title(\"Decision Boundary (Scikit-learn)\")\n",
        "\n",
        "# Gradient Descent Logistic Regression\n",
        "plt.subplot(1, 2, 2)\n",
        "gd_clf = GDLogisticRegression(theta_gd)  # Custom classifier\n",
        "plot_decision_regions(X_train, y_train, clf=gd_clf, legend=2)\n",
        "plt.title(\"Decision Boundary (Gradient Descent)\")\n",
        "\n",
        "plt.show()\n"
      ],
      "metadata": {
        "colab": {
          "base_uri": "https://localhost:8080/",
          "height": 468
        },
        "id": "xfh8pp4xIIrQ",
        "outputId": "6c3f7415-dc74-419b-e159-c77ba7ccb1de"
      },
      "execution_count": 7,
      "outputs": [
        {
          "output_type": "display_data",
          "data": {
            "text/plain": [
              "<Figure size 1200x500 with 2 Axes>"
            ],
            "image/png": "[encoded data removed]"
          },
          "metadata": {}
        }
      ]
    },
    {
      "cell_type": "markdown",
      "source": [
        "## **9. Try Logistic Regression on Another Dataset**\n",
        "\n",
        "Using the **Breast Cancer dataset**, try to implement a **Logistic Regression model** using both **Scikit-Learn and Gradient Descent**, following the same steps as we did for the Iris dataset."
      ],
      "metadata": {
        "id": "A1G7rTlSJDti"
      }
    },
    {
      "cell_type": "code",
      "source": [
        "# Load a different dataset (Breast Cancer dataset)\n",
        "cancer = datasets.load_breast_cancer()\n",
        "X_cancer = cancer.data\n",
        "y_cancer = cancer.target"
      ],
      "metadata": {
        "id": "sTJy6xo8Jdv3"
      },
      "execution_count": 8,
      "outputs": []
    },
    {
      "cell_type": "code",
      "source": [],
      "metadata": {
        "id": "trCDcwPS-OXn"
      },
      "execution_count": null,
      "outputs": []
    }
  ]
}